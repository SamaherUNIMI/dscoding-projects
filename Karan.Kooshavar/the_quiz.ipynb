{
 "cells": [
  {
   "cell_type": "code",
   "execution_count": null,
   "id": "74b18088",
   "metadata": {
    "is_executing": true
   },
   "outputs": [],
   "source": [
    "import pandas as pd\n",
    "from Quiz_class import Quiz\n",
    "\n",
    "def main():\n",
    "    # Load quiz data\n",
    "    quiz_data = pd.read_csv('~/all_qiuzable_roles.csv')\n",
    "    quiz = Quiz(quiz_data)\n",
    "    \n",
    "    playing = True\n",
    "\n",
    "    while playing:\n",
    "        quiz.take_quiz()\n",
    "\n",
    "        while True:\n",
    "            play_again = input(\"\\n\\nDo you want to play again? (yes/no): \").strip().lower()\n",
    "            if play_again == 'yes':\n",
    "                break \n",
    "            elif play_again == 'no':\n",
    "                playing = False \n",
    "                print(\"\\n\\nThank you for playing!\")\n",
    "                break  \n",
    "            else:\n",
    "                print(\"\\nPlease insert a valid answer!\")\n",
    "             \n",
    "            \n",
    "\n",
    "if __name__ == \"__main__\":\n",
    "    main()\n",
    "    "
   ]
  }
 ],
 "metadata": {
  "kernelspec": {
   "display_name": "Python 3 (ipykernel)",
   "language": "python",
   "name": "python3"
  },
  "language_info": {
   "codemirror_mode": {
    "name": "ipython",
    "version": 3
   },
   "file_extension": ".py",
   "mimetype": "text/x-python",
   "name": "python",
   "nbconvert_exporter": "python",
   "pygments_lexer": "ipython3",
   "version": "3.9.13"
  }
 },
 "nbformat": 4,
 "nbformat_minor": 5
}
