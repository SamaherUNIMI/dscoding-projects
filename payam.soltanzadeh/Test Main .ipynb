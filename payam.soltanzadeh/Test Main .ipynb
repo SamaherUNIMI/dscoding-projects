{
 "cells": [
  {
   "cell_type": "code",
   "execution_count": 30,
   "id": "49ea1544",
   "metadata": {},
   "outputs": [
    {
     "data": {
      "text/html": [
       "<h2>Random Allocation Strategy Results</h2>"
      ],
      "text/plain": [
       "<IPython.core.display.HTML object>"
      ]
     },
     "metadata": {},
     "output_type": "display_data"
    },
    {
     "data": {
      "text/html": [
       "<b>Table 1: Random Allocation Results Summary</b><br>This table shows the distribution of guests across various hotels, the price paid, and their satisfaction scores."
      ],
      "text/plain": [
       "<IPython.core.display.HTML object>"
      ]
     },
     "metadata": {},
     "output_type": "display_data"
    },
    {
     "data": {
      "text/html": [
       "<style type=\"text/css\">\n",
       "#T_e2009 th {\n",
       "  font-size: 12pt;\n",
       "  text-align: center;\n",
       "}\n",
       "#T_e2009_row0_col0, #T_e2009_row0_col1, #T_e2009_row1_col0, #T_e2009_row1_col1, #T_e2009_row2_col0, #T_e2009_row2_col1, #T_e2009_row3_col0, #T_e2009_row3_col1, #T_e2009_row4_col0, #T_e2009_row4_col1 {\n",
       "  text-align: left;\n",
       "  font-size: 12pt;\n",
       "}\n",
       "#T_e2009_row0_col2 {\n",
       "  background-color: #2373b6;\n",
       "  color: #f1f1f1;\n",
       "  text-align: left;\n",
       "  font-size: 12pt;\n",
       "}\n",
       "#T_e2009_row0_col3, #T_e2009_row2_col2, #T_e2009_row2_col3, #T_e2009_row4_col3 {\n",
       "  background-color: #08306b;\n",
       "  color: #f1f1f1;\n",
       "  text-align: left;\n",
       "  font-size: 12pt;\n",
       "}\n",
       "#T_e2009_row1_col2, #T_e2009_row1_col3, #T_e2009_row3_col3 {\n",
       "  background-color: #f7fbff;\n",
       "  color: #000000;\n",
       "  text-align: left;\n",
       "  font-size: 12pt;\n",
       "}\n",
       "#T_e2009_row3_col2 {\n",
       "  background-color: #083776;\n",
       "  color: #f1f1f1;\n",
       "  text-align: left;\n",
       "  font-size: 12pt;\n",
       "}\n",
       "#T_e2009_row4_col2 {\n",
       "  background-color: #afd1e7;\n",
       "  color: #000000;\n",
       "  text-align: left;\n",
       "  font-size: 12pt;\n",
       "}\n",
       "</style>\n",
       "<table id=\"T_e2009\">\n",
       "  <thead>\n",
       "    <tr>\n",
       "      <th class=\"blank level0\" >&nbsp;</th>\n",
       "      <th id=\"T_e2009_level0_col0\" class=\"col_heading level0 col0\" >guest</th>\n",
       "      <th id=\"T_e2009_level0_col1\" class=\"col_heading level0 col1\" >hotel</th>\n",
       "      <th id=\"T_e2009_level0_col2\" class=\"col_heading level0 col2\" >final_price</th>\n",
       "      <th id=\"T_e2009_level0_col3\" class=\"col_heading level0 col3\" >guest_satisfaction</th>\n",
       "    </tr>\n",
       "  </thead>\n",
       "  <tbody>\n",
       "    <tr>\n",
       "      <th id=\"T_e2009_level0_row0\" class=\"row_heading level0 row0\" >0</th>\n",
       "      <td id=\"T_e2009_row0_col0\" class=\"data row0 col0\" >guest_856</td>\n",
       "      <td id=\"T_e2009_row0_col1\" class=\"data row0 col1\" >hotel_300</td>\n",
       "      <td id=\"T_e2009_row0_col2\" class=\"data row0 col2\" >€186.01</td>\n",
       "      <td id=\"T_e2009_row0_col3\" class=\"data row0 col3\" >2</td>\n",
       "    </tr>\n",
       "    <tr>\n",
       "      <th id=\"T_e2009_level0_row1\" class=\"row_heading level0 row1\" >1</th>\n",
       "      <td id=\"T_e2009_row1_col0\" class=\"data row1 col0\" >guest_534</td>\n",
       "      <td id=\"T_e2009_row1_col1\" class=\"data row1 col1\" >hotel_321</td>\n",
       "      <td id=\"T_e2009_row1_col2\" class=\"data row1 col2\" >€49.14</td>\n",
       "      <td id=\"T_e2009_row1_col3\" class=\"data row1 col3\" >1</td>\n",
       "    </tr>\n",
       "    <tr>\n",
       "      <th id=\"T_e2009_level0_row2\" class=\"row_heading level0 row2\" >2</th>\n",
       "      <td id=\"T_e2009_row2_col0\" class=\"data row2 col0\" >guest_873</td>\n",
       "      <td id=\"T_e2009_row2_col1\" class=\"data row2 col1\" >hotel_55</td>\n",
       "      <td id=\"T_e2009_row2_col2\" class=\"data row2 col2\" >€233.77</td>\n",
       "      <td id=\"T_e2009_row2_col3\" class=\"data row2 col3\" >2</td>\n",
       "    </tr>\n",
       "    <tr>\n",
       "      <th id=\"T_e2009_level0_row3\" class=\"row_heading level0 row3\" >3</th>\n",
       "      <td id=\"T_e2009_row3_col0\" class=\"data row3 col0\" >guest_1198</td>\n",
       "      <td id=\"T_e2009_row3_col1\" class=\"data row3 col1\" >hotel_154</td>\n",
       "      <td id=\"T_e2009_row3_col2\" class=\"data row3 col2\" >€228.42</td>\n",
       "      <td id=\"T_e2009_row3_col3\" class=\"data row3 col3\" >1</td>\n",
       "    </tr>\n",
       "    <tr>\n",
       "      <th id=\"T_e2009_level0_row4\" class=\"row_heading level0 row4\" >4</th>\n",
       "      <td id=\"T_e2009_row4_col0\" class=\"data row4 col0\" >guest_1180</td>\n",
       "      <td id=\"T_e2009_row4_col1\" class=\"data row4 col1\" >hotel_94</td>\n",
       "      <td id=\"T_e2009_row4_col2\" class=\"data row4 col2\" >€108.64</td>\n",
       "      <td id=\"T_e2009_row4_col3\" class=\"data row4 col3\" >2</td>\n",
       "    </tr>\n",
       "  </tbody>\n",
       "</table>\n"
      ],
      "text/plain": [
       "<pandas.io.formats.style.Styler at 0x272c5564d90>"
      ]
     },
     "metadata": {},
     "output_type": "display_data"
    },
    {
     "data": {
      "text/html": [
       "*Note: Only the first 5 rows are displayed for brevity. For the complete data, please use the download link below.*"
      ],
      "text/plain": [
       "<IPython.core.display.HTML object>"
      ]
     },
     "metadata": {},
     "output_type": "display_data"
    },
    {
     "data": {
      "text/html": [
       "<b>Table 2: Random Allocation Performance Metrics</b><br>This table provides key metrics summarizing the allocation's effectiveness, including total guests allocated, revenue earned, and average guest satisfaction."
      ],
      "text/plain": [
       "<IPython.core.display.HTML object>"
      ]
     },
     "metadata": {},
     "output_type": "display_data"
    },
    {
     "data": {
      "text/html": [
       "<style type=\"text/css\">\n",
       "#T_ead4d th {\n",
       "  font-size: 12pt;\n",
       "  text-align: center;\n",
       "}\n",
       "#T_ead4d_row0_col0, #T_ead4d_row1_col0, #T_ead4d_row2_col0, #T_ead4d_row3_col0, #T_ead4d_row4_col0, #T_ead4d_row5_col0, #T_ead4d_row6_col0 {\n",
       "  text-align: left;\n",
       "  font-size: 12pt;\n",
       "}\n",
       "#T_ead4d_row0_col1, #T_ead4d_row1_col1 {\n",
       "  background-color: #f6faff;\n",
       "  color: #000000;\n",
       "  text-align: left;\n",
       "  font-size: 12pt;\n",
       "}\n",
       "#T_ead4d_row2_col1, #T_ead4d_row3_col1, #T_ead4d_row5_col1, #T_ead4d_row6_col1 {\n",
       "  background-color: #f7fbff;\n",
       "  color: #000000;\n",
       "  text-align: left;\n",
       "  font-size: 12pt;\n",
       "}\n",
       "#T_ead4d_row4_col1 {\n",
       "  background-color: #08306b;\n",
       "  color: #f1f1f1;\n",
       "  text-align: left;\n",
       "  font-size: 12pt;\n",
       "}\n",
       "</style>\n",
       "<table id=\"T_ead4d\">\n",
       "  <thead>\n",
       "    <tr>\n",
       "      <th class=\"blank level0\" >&nbsp;</th>\n",
       "      <th id=\"T_ead4d_level0_col0\" class=\"col_heading level0 col0\" >Metric</th>\n",
       "      <th id=\"T_ead4d_level0_col1\" class=\"col_heading level0 col1\" >Value</th>\n",
       "    </tr>\n",
       "  </thead>\n",
       "  <tbody>\n",
       "    <tr>\n",
       "      <th id=\"T_ead4d_level0_row0\" class=\"row_heading level0 row0\" >0</th>\n",
       "      <td id=\"T_ead4d_row0_col0\" class=\"data row0 col0\" >Total Guests Allocated</td>\n",
       "      <td id=\"T_ead4d_row0_col1\" class=\"data row0 col1\" >3,937</td>\n",
       "    </tr>\n",
       "    <tr>\n",
       "      <th id=\"T_ead4d_level0_row1\" class=\"row_heading level0 row1\" >1</th>\n",
       "      <td id=\"T_ead4d_row1_col0\" class=\"data row1 col0\" >Total Rooms Filled</td>\n",
       "      <td id=\"T_ead4d_row1_col1\" class=\"data row1 col1\" >3,937</td>\n",
       "    </tr>\n",
       "    <tr>\n",
       "      <th id=\"T_ead4d_level0_row2\" class=\"row_heading level0 row2\" >2</th>\n",
       "      <td id=\"T_ead4d_row2_col0\" class=\"data row2 col0\" >Number of Hotels Utilized</td>\n",
       "      <td id=\"T_ead4d_row2_col1\" class=\"data row2 col1\" >389</td>\n",
       "    </tr>\n",
       "    <tr>\n",
       "      <th id=\"T_ead4d_level0_row3\" class=\"row_heading level0 row3\" >3</th>\n",
       "      <td id=\"T_ead4d_row3_col0\" class=\"data row3 col0\" >Full Capacity Hotels Count</td>\n",
       "      <td id=\"T_ead4d_row3_col1\" class=\"data row3 col1\" >321</td>\n",
       "    </tr>\n",
       "    <tr>\n",
       "      <th id=\"T_ead4d_level0_row4\" class=\"row_heading level0 row4\" >4</th>\n",
       "      <td id=\"T_ead4d_row4_col0\" class=\"data row4 col0\" >Overall Revenue Earned</td>\n",
       "      <td id=\"T_ead4d_row4_col1\" class=\"data row4 col1\" >€627,415.6100</td>\n",
       "    </tr>\n",
       "    <tr>\n",
       "      <th id=\"T_ead4d_level0_row5\" class=\"row_heading level0 row5\" >5</th>\n",
       "      <td id=\"T_ead4d_row5_col0\" class=\"data row5 col0\" >Average Earnings Per Hotel</td>\n",
       "      <td id=\"T_ead4d_row5_col1\" class=\"data row5 col1\" >€1,612.8900</td>\n",
       "    </tr>\n",
       "    <tr>\n",
       "      <th id=\"T_ead4d_level0_row6\" class=\"row_heading level0 row6\" >6</th>\n",
       "      <td id=\"T_ead4d_row6_col0\" class=\"data row6 col0\" >Average Guest Satisfaction</td>\n",
       "      <td id=\"T_ead4d_row6_col1\" class=\"data row6 col1\" >3.44</td>\n",
       "    </tr>\n",
       "  </tbody>\n",
       "</table>\n"
      ],
      "text/plain": [
       "<pandas.io.formats.style.Styler at 0x272ca617f10>"
      ]
     },
     "metadata": {},
     "output_type": "display_data"
    },
    {
     "data": {
      "text/html": [
       "*Note: Guest satisfaction scores range from 1 to 5, with 1 being the guest's top choice and 5 being around their last preference.*"
      ],
      "text/plain": [
       "<IPython.core.display.HTML object>"
      ]
     },
     "metadata": {},
     "output_type": "display_data"
    },
    {
     "data": {
      "text/html": [
       "Download CSV: <a href='results\\random_allocation_results.csv' target='_blank'>results\\random_allocation_results.csv</a><br>"
      ],
      "text/plain": [
       "C:\\Users\\irpay\\results\\random_allocation_results.csv"
      ]
     },
     "metadata": {},
     "output_type": "display_data"
    },
    {
     "data": {
      "text/html": [
       "Download Summary Report: <a href='results\\summary_report_random_allocation.txt' target='_blank'>results\\summary_report_random_allocation.txt</a><br>"
      ],
      "text/plain": [
       "C:\\Users\\irpay\\results\\summary_report_random_allocation.txt"
      ]
     },
     "metadata": {},
     "output_type": "display_data"
    },
    {
     "data": {
      "text/html": [
       "<h2>Customer Preference Allocation Strategy Results</h2>"
      ],
      "text/plain": [
       "<IPython.core.display.HTML object>"
      ]
     },
     "metadata": {},
     "output_type": "display_data"
    },
    {
     "data": {
      "text/html": [
       "<b>Table 3: Customer Preference Allocation Results Summary</b><br>This table shows the distribution of guests across various hotels, the price paid, and their satisfaction scores."
      ],
      "text/plain": [
       "<IPython.core.display.HTML object>"
      ]
     },
     "metadata": {},
     "output_type": "display_data"
    },
    {
     "data": {
      "text/html": [
       "<style type=\"text/css\">\n",
       "#T_ea630 th {\n",
       "  font-size: 12pt;\n",
       "  text-align: center;\n",
       "}\n",
       "#T_ea630_row0_col0, #T_ea630_row0_col1, #T_ea630_row1_col0, #T_ea630_row1_col1, #T_ea630_row2_col0, #T_ea630_row2_col1, #T_ea630_row3_col0, #T_ea630_row3_col1, #T_ea630_row4_col0, #T_ea630_row4_col1 {\n",
       "  text-align: left;\n",
       "  font-size: 12pt;\n",
       "}\n",
       "#T_ea630_row0_col2 {\n",
       "  background-color: #08306b;\n",
       "  color: #f1f1f1;\n",
       "  text-align: left;\n",
       "  font-size: 12pt;\n",
       "}\n",
       "#T_ea630_row0_col3, #T_ea630_row1_col3, #T_ea630_row2_col3, #T_ea630_row3_col3, #T_ea630_row4_col2, #T_ea630_row4_col3 {\n",
       "  background-color: #f7fbff;\n",
       "  color: #000000;\n",
       "  text-align: left;\n",
       "  font-size: 12pt;\n",
       "}\n",
       "#T_ea630_row1_col2 {\n",
       "  background-color: #9fcae1;\n",
       "  color: #000000;\n",
       "  text-align: left;\n",
       "  font-size: 12pt;\n",
       "}\n",
       "#T_ea630_row2_col2 {\n",
       "  background-color: #eef5fc;\n",
       "  color: #000000;\n",
       "  text-align: left;\n",
       "  font-size: 12pt;\n",
       "}\n",
       "#T_ea630_row3_col2 {\n",
       "  background-color: #99c7e0;\n",
       "  color: #000000;\n",
       "  text-align: left;\n",
       "  font-size: 12pt;\n",
       "}\n",
       "</style>\n",
       "<table id=\"T_ea630\">\n",
       "  <thead>\n",
       "    <tr>\n",
       "      <th class=\"blank level0\" >&nbsp;</th>\n",
       "      <th id=\"T_ea630_level0_col0\" class=\"col_heading level0 col0\" >guest</th>\n",
       "      <th id=\"T_ea630_level0_col1\" class=\"col_heading level0 col1\" >hotel</th>\n",
       "      <th id=\"T_ea630_level0_col2\" class=\"col_heading level0 col2\" >final_price</th>\n",
       "      <th id=\"T_ea630_level0_col3\" class=\"col_heading level0 col3\" >guest_satisfaction</th>\n",
       "    </tr>\n",
       "  </thead>\n",
       "  <tbody>\n",
       "    <tr>\n",
       "      <th id=\"T_ea630_level0_row0\" class=\"row_heading level0 row0\" >0</th>\n",
       "      <td id=\"T_ea630_row0_col0\" class=\"data row0 col0\" >guest_1</td>\n",
       "      <td id=\"T_ea630_row0_col1\" class=\"data row0 col1\" >hotel_168</td>\n",
       "      <td id=\"T_ea630_row0_col2\" class=\"data row0 col2\" >€271.18</td>\n",
       "      <td id=\"T_ea630_row0_col3\" class=\"data row0 col3\" >1</td>\n",
       "    </tr>\n",
       "    <tr>\n",
       "      <th id=\"T_ea630_level0_row1\" class=\"row_heading level0 row1\" >1</th>\n",
       "      <td id=\"T_ea630_row1_col0\" class=\"data row1 col0\" >guest_2</td>\n",
       "      <td id=\"T_ea630_row1_col1\" class=\"data row1 col1\" >hotel_369</td>\n",
       "      <td id=\"T_ea630_row1_col2\" class=\"data row1 col2\" >€133.00</td>\n",
       "      <td id=\"T_ea630_row1_col3\" class=\"data row1 col3\" >1</td>\n",
       "    </tr>\n",
       "    <tr>\n",
       "      <th id=\"T_ea630_level0_row2\" class=\"row_heading level0 row2\" >2</th>\n",
       "      <td id=\"T_ea630_row2_col0\" class=\"data row2 col0\" >guest_3</td>\n",
       "      <td id=\"T_ea630_row2_col1\" class=\"data row2 col1\" >hotel_157</td>\n",
       "      <td id=\"T_ea630_row2_col2\" class=\"data row2 col2\" >€60.45</td>\n",
       "      <td id=\"T_ea630_row2_col3\" class=\"data row2 col3\" >1</td>\n",
       "    </tr>\n",
       "    <tr>\n",
       "      <th id=\"T_ea630_level0_row3\" class=\"row_heading level0 row3\" >3</th>\n",
       "      <td id=\"T_ea630_row3_col0\" class=\"data row3 col0\" >guest_4</td>\n",
       "      <td id=\"T_ea630_row3_col1\" class=\"data row3 col1\" >hotel_235</td>\n",
       "      <td id=\"T_ea630_row3_col2\" class=\"data row3 col2\" >€136.00</td>\n",
       "      <td id=\"T_ea630_row3_col3\" class=\"data row3 col3\" >1</td>\n",
       "    </tr>\n",
       "    <tr>\n",
       "      <th id=\"T_ea630_level0_row4\" class=\"row_heading level0 row4\" >4</th>\n",
       "      <td id=\"T_ea630_row4_col0\" class=\"data row4 col0\" >guest_5</td>\n",
       "      <td id=\"T_ea630_row4_col1\" class=\"data row4 col1\" >hotel_121</td>\n",
       "      <td id=\"T_ea630_row4_col2\" class=\"data row4 col2\" >€50.40</td>\n",
       "      <td id=\"T_ea630_row4_col3\" class=\"data row4 col3\" >1</td>\n",
       "    </tr>\n",
       "  </tbody>\n",
       "</table>\n"
      ],
      "text/plain": [
       "<pandas.io.formats.style.Styler at 0x272ca977850>"
      ]
     },
     "metadata": {},
     "output_type": "display_data"
    },
    {
     "data": {
      "text/html": [
       "*Note: Only the first 5 rows are displayed for brevity. For the complete data, please use the download link below.*"
      ],
      "text/plain": [
       "<IPython.core.display.HTML object>"
      ]
     },
     "metadata": {},
     "output_type": "display_data"
    },
    {
     "data": {
      "text/html": [
       "<b>Table 4: Customer Preference Allocation Performance Metrics</b><br>This table provides key metrics summarizing the allocation's effectiveness, including total guests allocated, revenue earned, and average guest satisfaction."
      ],
      "text/plain": [
       "<IPython.core.display.HTML object>"
      ]
     },
     "metadata": {},
     "output_type": "display_data"
    },
    {
     "data": {
      "text/html": [
       "<style type=\"text/css\">\n",
       "#T_a9955 th {\n",
       "  font-size: 12pt;\n",
       "  text-align: center;\n",
       "}\n",
       "#T_a9955_row0_col0, #T_a9955_row1_col0, #T_a9955_row2_col0, #T_a9955_row3_col0, #T_a9955_row4_col0, #T_a9955_row5_col0, #T_a9955_row6_col0 {\n",
       "  text-align: left;\n",
       "  font-size: 12pt;\n",
       "}\n",
       "#T_a9955_row0_col1, #T_a9955_row1_col1 {\n",
       "  background-color: #f6faff;\n",
       "  color: #000000;\n",
       "  text-align: left;\n",
       "  font-size: 12pt;\n",
       "}\n",
       "#T_a9955_row2_col1, #T_a9955_row3_col1, #T_a9955_row5_col1, #T_a9955_row6_col1 {\n",
       "  background-color: #f7fbff;\n",
       "  color: #000000;\n",
       "  text-align: left;\n",
       "  font-size: 12pt;\n",
       "}\n",
       "#T_a9955_row4_col1 {\n",
       "  background-color: #08306b;\n",
       "  color: #f1f1f1;\n",
       "  text-align: left;\n",
       "  font-size: 12pt;\n",
       "}\n",
       "</style>\n",
       "<table id=\"T_a9955\">\n",
       "  <thead>\n",
       "    <tr>\n",
       "      <th class=\"blank level0\" >&nbsp;</th>\n",
       "      <th id=\"T_a9955_level0_col0\" class=\"col_heading level0 col0\" >Metric</th>\n",
       "      <th id=\"T_a9955_level0_col1\" class=\"col_heading level0 col1\" >Value</th>\n",
       "    </tr>\n",
       "  </thead>\n",
       "  <tbody>\n",
       "    <tr>\n",
       "      <th id=\"T_a9955_level0_row0\" class=\"row_heading level0 row0\" >0</th>\n",
       "      <td id=\"T_a9955_row0_col0\" class=\"data row0 col0\" >Total Guests Allocated</td>\n",
       "      <td id=\"T_a9955_row0_col1\" class=\"data row0 col1\" >3,975</td>\n",
       "    </tr>\n",
       "    <tr>\n",
       "      <th id=\"T_a9955_level0_row1\" class=\"row_heading level0 row1\" >1</th>\n",
       "      <td id=\"T_a9955_row1_col0\" class=\"data row1 col0\" >Total Rooms Filled</td>\n",
       "      <td id=\"T_a9955_row1_col1\" class=\"data row1 col1\" >3,975</td>\n",
       "    </tr>\n",
       "    <tr>\n",
       "      <th id=\"T_a9955_level0_row2\" class=\"row_heading level0 row2\" >2</th>\n",
       "      <td id=\"T_a9955_row2_col0\" class=\"data row2 col0\" >Number of Hotels Utilized</td>\n",
       "      <td id=\"T_a9955_row2_col1\" class=\"data row2 col1\" >400</td>\n",
       "    </tr>\n",
       "    <tr>\n",
       "      <th id=\"T_a9955_level0_row3\" class=\"row_heading level0 row3\" >3</th>\n",
       "      <td id=\"T_a9955_row3_col0\" class=\"data row3 col0\" >Full Capacity Hotels Count</td>\n",
       "      <td id=\"T_a9955_row3_col1\" class=\"data row3 col1\" >255</td>\n",
       "    </tr>\n",
       "    <tr>\n",
       "      <th id=\"T_a9955_level0_row4\" class=\"row_heading level0 row4\" >4</th>\n",
       "      <td id=\"T_a9955_row4_col0\" class=\"data row4 col0\" >Overall Revenue Earned</td>\n",
       "      <td id=\"T_a9955_row4_col1\" class=\"data row4 col1\" >€643,597.5300</td>\n",
       "    </tr>\n",
       "    <tr>\n",
       "      <th id=\"T_a9955_level0_row5\" class=\"row_heading level0 row5\" >5</th>\n",
       "      <td id=\"T_a9955_row5_col0\" class=\"data row5 col0\" >Average Earnings Per Hotel</td>\n",
       "      <td id=\"T_a9955_row5_col1\" class=\"data row5 col1\" >€1,608.9900</td>\n",
       "    </tr>\n",
       "    <tr>\n",
       "      <th id=\"T_a9955_level0_row6\" class=\"row_heading level0 row6\" >6</th>\n",
       "      <td id=\"T_a9955_row6_col0\" class=\"data row6 col0\" >Average Guest Satisfaction</td>\n",
       "      <td id=\"T_a9955_row6_col1\" class=\"data row6 col1\" >1.32</td>\n",
       "    </tr>\n",
       "  </tbody>\n",
       "</table>\n"
      ],
      "text/plain": [
       "<pandas.io.formats.style.Styler at 0x272c8ffb250>"
      ]
     },
     "metadata": {},
     "output_type": "display_data"
    },
    {
     "data": {
      "text/html": [
       "*Note: Guest satisfaction scores range from 1 to 5, with 1 being the guest's top choice and 5 being around their last preference.*"
      ],
      "text/plain": [
       "<IPython.core.display.HTML object>"
      ]
     },
     "metadata": {},
     "output_type": "display_data"
    },
    {
     "data": {
      "text/html": [
       "Download CSV: <a href='results\\customer_preference_results.csv' target='_blank'>results\\customer_preference_results.csv</a><br>"
      ],
      "text/plain": [
       "C:\\Users\\irpay\\results\\customer_preference_results.csv"
      ]
     },
     "metadata": {},
     "output_type": "display_data"
    },
    {
     "data": {
      "text/html": [
       "Download Summary Report: <a href='results\\summary_report_customer_preference.txt' target='_blank'>results\\summary_report_customer_preference.txt</a><br>"
      ],
      "text/plain": [
       "C:\\Users\\irpay\\results\\summary_report_customer_preference.txt"
      ]
     },
     "metadata": {},
     "output_type": "display_data"
    },
    {
     "data": {
      "text/html": [
       "<h2>Price Allocation Strategy Results</h2>"
      ],
      "text/plain": [
       "<IPython.core.display.HTML object>"
      ]
     },
     "metadata": {},
     "output_type": "display_data"
    },
    {
     "data": {
      "text/html": [
       "<b>Table 5: Price Allocation Results Summary</b><br>This table shows the distribution of guests across various hotels, the price paid, and their satisfaction scores."
      ],
      "text/plain": [
       "<IPython.core.display.HTML object>"
      ]
     },
     "metadata": {},
     "output_type": "display_data"
    },
    {
     "data": {
      "text/html": [
       "<style type=\"text/css\">\n",
       "#T_970cd th {\n",
       "  font-size: 12pt;\n",
       "  text-align: center;\n",
       "}\n",
       "#T_970cd_row0_col0, #T_970cd_row0_col1, #T_970cd_row1_col0, #T_970cd_row1_col1, #T_970cd_row2_col0, #T_970cd_row2_col1, #T_970cd_row3_col0, #T_970cd_row3_col1, #T_970cd_row4_col0, #T_970cd_row4_col1 {\n",
       "  text-align: left;\n",
       "  font-size: 12pt;\n",
       "}\n",
       "#T_970cd_row0_col2, #T_970cd_row0_col3, #T_970cd_row3_col3 {\n",
       "  background-color: #08306b;\n",
       "  color: #f1f1f1;\n",
       "  text-align: left;\n",
       "  font-size: 12pt;\n",
       "}\n",
       "#T_970cd_row1_col2 {\n",
       "  background-color: #084a91;\n",
       "  color: #f1f1f1;\n",
       "  text-align: left;\n",
       "  font-size: 12pt;\n",
       "}\n",
       "#T_970cd_row1_col3 {\n",
       "  background-color: #2070b4;\n",
       "  color: #f1f1f1;\n",
       "  text-align: left;\n",
       "  font-size: 12pt;\n",
       "}\n",
       "#T_970cd_row2_col2 {\n",
       "  background-color: #3080bd;\n",
       "  color: #f1f1f1;\n",
       "  text-align: left;\n",
       "  font-size: 12pt;\n",
       "}\n",
       "#T_970cd_row2_col3 {\n",
       "  background-color: #c6dbef;\n",
       "  color: #000000;\n",
       "  text-align: left;\n",
       "  font-size: 12pt;\n",
       "}\n",
       "#T_970cd_row3_col2 {\n",
       "  background-color: #2d7dbb;\n",
       "  color: #f1f1f1;\n",
       "  text-align: left;\n",
       "  font-size: 12pt;\n",
       "}\n",
       "#T_970cd_row4_col2, #T_970cd_row4_col3 {\n",
       "  background-color: #f7fbff;\n",
       "  color: #000000;\n",
       "  text-align: left;\n",
       "  font-size: 12pt;\n",
       "}\n",
       "</style>\n",
       "<table id=\"T_970cd\">\n",
       "  <thead>\n",
       "    <tr>\n",
       "      <th class=\"blank level0\" >&nbsp;</th>\n",
       "      <th id=\"T_970cd_level0_col0\" class=\"col_heading level0 col0\" >guest</th>\n",
       "      <th id=\"T_970cd_level0_col1\" class=\"col_heading level0 col1\" >hotel</th>\n",
       "      <th id=\"T_970cd_level0_col2\" class=\"col_heading level0 col2\" >final_price</th>\n",
       "      <th id=\"T_970cd_level0_col3\" class=\"col_heading level0 col3\" >guest_satisfaction</th>\n",
       "    </tr>\n",
       "  </thead>\n",
       "  <tbody>\n",
       "    <tr>\n",
       "      <th id=\"T_970cd_level0_row0\" class=\"row_heading level0 row0\" >0</th>\n",
       "      <td id=\"T_970cd_row0_col0\" class=\"data row0 col0\" >guest_1</td>\n",
       "      <td id=\"T_970cd_row0_col1\" class=\"data row0 col1\" >hotel_22</td>\n",
       "      <td id=\"T_970cd_row0_col2\" class=\"data row0 col2\" >€55.51</td>\n",
       "      <td id=\"T_970cd_row0_col3\" class=\"data row0 col3\" >5</td>\n",
       "    </tr>\n",
       "    <tr>\n",
       "      <th id=\"T_970cd_level0_row1\" class=\"row_heading level0 row1\" >1</th>\n",
       "      <td id=\"T_970cd_row1_col0\" class=\"data row1 col0\" >guest_2</td>\n",
       "      <td id=\"T_970cd_row1_col1\" class=\"data row1 col1\" >hotel_26</td>\n",
       "      <td id=\"T_970cd_row1_col2\" class=\"data row1 col2\" >€55.00</td>\n",
       "      <td id=\"T_970cd_row1_col3\" class=\"data row1 col3\" >4</td>\n",
       "    </tr>\n",
       "    <tr>\n",
       "      <th id=\"T_970cd_level0_row2\" class=\"row_heading level0 row2\" >2</th>\n",
       "      <td id=\"T_970cd_row2_col0\" class=\"data row2 col0\" >guest_3</td>\n",
       "      <td id=\"T_970cd_row2_col1\" class=\"data row2 col1\" >hotel_6</td>\n",
       "      <td id=\"T_970cd_row2_col2\" class=\"data row2 col2\" >€53.94</td>\n",
       "      <td id=\"T_970cd_row2_col3\" class=\"data row2 col3\" >2</td>\n",
       "    </tr>\n",
       "    <tr>\n",
       "      <th id=\"T_970cd_level0_row3\" class=\"row_heading level0 row3\" >3</th>\n",
       "      <td id=\"T_970cd_row3_col0\" class=\"data row3 col0\" >guest_4</td>\n",
       "      <td id=\"T_970cd_row3_col1\" class=\"data row3 col1\" >hotel_321</td>\n",
       "      <td id=\"T_970cd_row3_col2\" class=\"data row3 col2\" >€54.00</td>\n",
       "      <td id=\"T_970cd_row3_col3\" class=\"data row3 col3\" >5</td>\n",
       "    </tr>\n",
       "    <tr>\n",
       "      <th id=\"T_970cd_level0_row4\" class=\"row_heading level0 row4\" >4</th>\n",
       "      <td id=\"T_970cd_row4_col0\" class=\"data row4 col0\" >guest_5</td>\n",
       "      <td id=\"T_970cd_row4_col1\" class=\"data row4 col1\" >hotel_121</td>\n",
       "      <td id=\"T_970cd_row4_col2\" class=\"data row4 col2\" >€50.40</td>\n",
       "      <td id=\"T_970cd_row4_col3\" class=\"data row4 col3\" >1</td>\n",
       "    </tr>\n",
       "  </tbody>\n",
       "</table>\n"
      ],
      "text/plain": [
       "<pandas.io.formats.style.Styler at 0x272c82ea950>"
      ]
     },
     "metadata": {},
     "output_type": "display_data"
    },
    {
     "data": {
      "text/html": [
       "*Note: Only the first 5 rows are displayed for brevity. For the complete data, please use the download link below.*"
      ],
      "text/plain": [
       "<IPython.core.display.HTML object>"
      ]
     },
     "metadata": {},
     "output_type": "display_data"
    },
    {
     "data": {
      "text/html": [
       "<b>Table 6: Price Allocation Performance Metrics</b><br>This table provides key metrics summarizing the allocation's effectiveness, including total guests allocated, revenue earned, and average guest satisfaction."
      ],
      "text/plain": [
       "<IPython.core.display.HTML object>"
      ]
     },
     "metadata": {},
     "output_type": "display_data"
    },
    {
     "data": {
      "text/html": [
       "<style type=\"text/css\">\n",
       "#T_01f92 th {\n",
       "  font-size: 12pt;\n",
       "  text-align: center;\n",
       "}\n",
       "#T_01f92_row0_col0, #T_01f92_row1_col0, #T_01f92_row2_col0, #T_01f92_row3_col0, #T_01f92_row4_col0, #T_01f92_row5_col0, #T_01f92_row6_col0 {\n",
       "  text-align: left;\n",
       "  font-size: 12pt;\n",
       "}\n",
       "#T_01f92_row0_col1, #T_01f92_row1_col1 {\n",
       "  background-color: #f6faff;\n",
       "  color: #000000;\n",
       "  text-align: left;\n",
       "  font-size: 12pt;\n",
       "}\n",
       "#T_01f92_row2_col1, #T_01f92_row3_col1, #T_01f92_row5_col1, #T_01f92_row6_col1 {\n",
       "  background-color: #f7fbff;\n",
       "  color: #000000;\n",
       "  text-align: left;\n",
       "  font-size: 12pt;\n",
       "}\n",
       "#T_01f92_row4_col1 {\n",
       "  background-color: #08306b;\n",
       "  color: #f1f1f1;\n",
       "  text-align: left;\n",
       "  font-size: 12pt;\n",
       "}\n",
       "</style>\n",
       "<table id=\"T_01f92\">\n",
       "  <thead>\n",
       "    <tr>\n",
       "      <th class=\"blank level0\" >&nbsp;</th>\n",
       "      <th id=\"T_01f92_level0_col0\" class=\"col_heading level0 col0\" >Metric</th>\n",
       "      <th id=\"T_01f92_level0_col1\" class=\"col_heading level0 col1\" >Value</th>\n",
       "    </tr>\n",
       "  </thead>\n",
       "  <tbody>\n",
       "    <tr>\n",
       "      <th id=\"T_01f92_level0_row0\" class=\"row_heading level0 row0\" >0</th>\n",
       "      <td id=\"T_01f92_row0_col0\" class=\"data row0 col0\" >Total Guests Allocated</td>\n",
       "      <td id=\"T_01f92_row0_col1\" class=\"data row0 col1\" >3,925</td>\n",
       "    </tr>\n",
       "    <tr>\n",
       "      <th id=\"T_01f92_level0_row1\" class=\"row_heading level0 row1\" >1</th>\n",
       "      <td id=\"T_01f92_row1_col0\" class=\"data row1 col0\" >Total Rooms Filled</td>\n",
       "      <td id=\"T_01f92_row1_col1\" class=\"data row1 col1\" >3,925</td>\n",
       "    </tr>\n",
       "    <tr>\n",
       "      <th id=\"T_01f92_level0_row2\" class=\"row_heading level0 row2\" >2</th>\n",
       "      <td id=\"T_01f92_row2_col0\" class=\"data row2 col0\" >Number of Hotels Utilized</td>\n",
       "      <td id=\"T_01f92_row2_col1\" class=\"data row2 col1\" >388</td>\n",
       "    </tr>\n",
       "    <tr>\n",
       "      <th id=\"T_01f92_level0_row3\" class=\"row_heading level0 row3\" >3</th>\n",
       "      <td id=\"T_01f92_row3_col0\" class=\"data row3 col0\" >Full Capacity Hotels Count</td>\n",
       "      <td id=\"T_01f92_row3_col1\" class=\"data row3 col1\" >319</td>\n",
       "    </tr>\n",
       "    <tr>\n",
       "      <th id=\"T_01f92_level0_row4\" class=\"row_heading level0 row4\" >4</th>\n",
       "      <td id=\"T_01f92_row4_col0\" class=\"data row4 col0\" >Overall Revenue Earned</td>\n",
       "      <td id=\"T_01f92_row4_col1\" class=\"data row4 col1\" >€564,085.0800</td>\n",
       "    </tr>\n",
       "    <tr>\n",
       "      <th id=\"T_01f92_level0_row5\" class=\"row_heading level0 row5\" >5</th>\n",
       "      <td id=\"T_01f92_row5_col0\" class=\"data row5 col0\" >Average Earnings Per Hotel</td>\n",
       "      <td id=\"T_01f92_row5_col1\" class=\"data row5 col1\" >€1,453.8300</td>\n",
       "    </tr>\n",
       "    <tr>\n",
       "      <th id=\"T_01f92_level0_row6\" class=\"row_heading level0 row6\" >6</th>\n",
       "      <td id=\"T_01f92_row6_col0\" class=\"data row6 col0\" >Average Guest Satisfaction</td>\n",
       "      <td id=\"T_01f92_row6_col1\" class=\"data row6 col1\" >3.42</td>\n",
       "    </tr>\n",
       "  </tbody>\n",
       "</table>\n"
      ],
      "text/plain": [
       "<pandas.io.formats.style.Styler at 0x272ca961e90>"
      ]
     },
     "metadata": {},
     "output_type": "display_data"
    },
    {
     "data": {
      "text/html": [
       "*Note: Guest satisfaction scores range from 1 to 5, with 1 being the guest's top choice and 5 being around their last preference.*"
      ],
      "text/plain": [
       "<IPython.core.display.HTML object>"
      ]
     },
     "metadata": {},
     "output_type": "display_data"
    },
    {
     "data": {
      "text/html": [
       "Download CSV: <a href='results\\price_allocation_results.csv' target='_blank'>results\\price_allocation_results.csv</a><br>"
      ],
      "text/plain": [
       "C:\\Users\\irpay\\results\\price_allocation_results.csv"
      ]
     },
     "metadata": {},
     "output_type": "display_data"
    },
    {
     "data": {
      "text/html": [
       "Download Summary Report: <a href='results\\summary_report_price_allocation.txt' target='_blank'>results\\summary_report_price_allocation.txt</a><br>"
      ],
      "text/plain": [
       "C:\\Users\\irpay\\results\\summary_report_price_allocation.txt"
      ]
     },
     "metadata": {},
     "output_type": "display_data"
    },
    {
     "data": {
      "text/html": [
       "<h2>Availability Allocation Strategy Results</h2>"
      ],
      "text/plain": [
       "<IPython.core.display.HTML object>"
      ]
     },
     "metadata": {},
     "output_type": "display_data"
    },
    {
     "data": {
      "text/html": [
       "<b>Table 7: Availability Allocation Results Summary</b><br>This table shows the distribution of guests across various hotels, the price paid, and their satisfaction scores."
      ],
      "text/plain": [
       "<IPython.core.display.HTML object>"
      ]
     },
     "metadata": {},
     "output_type": "display_data"
    },
    {
     "data": {
      "text/html": [
       "<style type=\"text/css\">\n",
       "#T_1ecf0 th {\n",
       "  font-size: 12pt;\n",
       "  text-align: center;\n",
       "}\n",
       "#T_1ecf0_row0_col0, #T_1ecf0_row0_col1, #T_1ecf0_row1_col0, #T_1ecf0_row1_col1, #T_1ecf0_row2_col0, #T_1ecf0_row2_col1, #T_1ecf0_row3_col0, #T_1ecf0_row3_col1, #T_1ecf0_row4_col0, #T_1ecf0_row4_col1 {\n",
       "  text-align: left;\n",
       "  font-size: 12pt;\n",
       "}\n",
       "#T_1ecf0_row0_col2 {\n",
       "  background-color: #cddff1;\n",
       "  color: #000000;\n",
       "  text-align: left;\n",
       "  font-size: 12pt;\n",
       "}\n",
       "#T_1ecf0_row0_col3, #T_1ecf0_row3_col3, #T_1ecf0_row4_col2, #T_1ecf0_row4_col3 {\n",
       "  background-color: #08306b;\n",
       "  color: #f1f1f1;\n",
       "  text-align: left;\n",
       "  font-size: 12pt;\n",
       "}\n",
       "#T_1ecf0_row1_col2, #T_1ecf0_row2_col3 {\n",
       "  background-color: #f7fbff;\n",
       "  color: #000000;\n",
       "  text-align: left;\n",
       "  font-size: 12pt;\n",
       "}\n",
       "#T_1ecf0_row1_col3 {\n",
       "  background-color: #6aaed6;\n",
       "  color: #f1f1f1;\n",
       "  text-align: left;\n",
       "  font-size: 12pt;\n",
       "}\n",
       "#T_1ecf0_row2_col2 {\n",
       "  background-color: #82bbdb;\n",
       "  color: #000000;\n",
       "  text-align: left;\n",
       "  font-size: 12pt;\n",
       "}\n",
       "#T_1ecf0_row3_col2 {\n",
       "  background-color: #3181bd;\n",
       "  color: #f1f1f1;\n",
       "  text-align: left;\n",
       "  font-size: 12pt;\n",
       "}\n",
       "</style>\n",
       "<table id=\"T_1ecf0\">\n",
       "  <thead>\n",
       "    <tr>\n",
       "      <th class=\"blank level0\" >&nbsp;</th>\n",
       "      <th id=\"T_1ecf0_level0_col0\" class=\"col_heading level0 col0\" >guest</th>\n",
       "      <th id=\"T_1ecf0_level0_col1\" class=\"col_heading level0 col1\" >hotel</th>\n",
       "      <th id=\"T_1ecf0_level0_col2\" class=\"col_heading level0 col2\" >final_price</th>\n",
       "      <th id=\"T_1ecf0_level0_col3\" class=\"col_heading level0 col3\" >guest_satisfaction</th>\n",
       "    </tr>\n",
       "  </thead>\n",
       "  <tbody>\n",
       "    <tr>\n",
       "      <th id=\"T_1ecf0_level0_row0\" class=\"row_heading level0 row0\" >0</th>\n",
       "      <td id=\"T_1ecf0_row0_col0\" class=\"data row0 col0\" >guest_1</td>\n",
       "      <td id=\"T_1ecf0_row0_col1\" class=\"data row0 col1\" >hotel_269</td>\n",
       "      <td id=\"T_1ecf0_row0_col2\" class=\"data row0 col2\" >€115.57</td>\n",
       "      <td id=\"T_1ecf0_row0_col3\" class=\"data row0 col3\" >5</td>\n",
       "    </tr>\n",
       "    <tr>\n",
       "      <th id=\"T_1ecf0_level0_row1\" class=\"row_heading level0 row1\" >1</th>\n",
       "      <td id=\"T_1ecf0_row1_col0\" class=\"data row1 col0\" >guest_2</td>\n",
       "      <td id=\"T_1ecf0_row1_col1\" class=\"data row1 col1\" >hotel_79</td>\n",
       "      <td id=\"T_1ecf0_row1_col2\" class=\"data row1 col2\" >€75.00</td>\n",
       "      <td id=\"T_1ecf0_row1_col3\" class=\"data row1 col3\" >4</td>\n",
       "    </tr>\n",
       "    <tr>\n",
       "      <th id=\"T_1ecf0_level0_row2\" class=\"row_heading level0 row2\" >2</th>\n",
       "      <td id=\"T_1ecf0_row2_col0\" class=\"data row2 col0\" >guest_3</td>\n",
       "      <td id=\"T_1ecf0_row2_col1\" class=\"data row2 col1\" >hotel_179</td>\n",
       "      <td id=\"T_1ecf0_row2_col2\" class=\"data row2 col2\" >€159.03</td>\n",
       "      <td id=\"T_1ecf0_row2_col3\" class=\"data row2 col3\" >3</td>\n",
       "    </tr>\n",
       "    <tr>\n",
       "      <th id=\"T_1ecf0_level0_row3\" class=\"row_heading level0 row3\" >3</th>\n",
       "      <td id=\"T_1ecf0_row3_col0\" class=\"data row3 col0\" >guest_4</td>\n",
       "      <td id=\"T_1ecf0_row3_col1\" class=\"data row3 col1\" >hotel_212</td>\n",
       "      <td id=\"T_1ecf0_row3_col2\" class=\"data row3 col2\" >€205.00</td>\n",
       "      <td id=\"T_1ecf0_row3_col3\" class=\"data row3 col3\" >5</td>\n",
       "    </tr>\n",
       "    <tr>\n",
       "      <th id=\"T_1ecf0_level0_row4\" class=\"row_heading level0 row4\" >4</th>\n",
       "      <td id=\"T_1ecf0_row4_col0\" class=\"data row4 col0\" >guest_5</td>\n",
       "      <td id=\"T_1ecf0_row4_col1\" class=\"data row4 col1\" >hotel_85</td>\n",
       "      <td id=\"T_1ecf0_row4_col2\" class=\"data row4 col2\" >€263.70</td>\n",
       "      <td id=\"T_1ecf0_row4_col3\" class=\"data row4 col3\" >5</td>\n",
       "    </tr>\n",
       "  </tbody>\n",
       "</table>\n"
      ],
      "text/plain": [
       "<pandas.io.formats.style.Styler at 0x272c82ea950>"
      ]
     },
     "metadata": {},
     "output_type": "display_data"
    },
    {
     "data": {
      "text/html": [
       "*Note: Only the first 5 rows are displayed for brevity. For the complete data, please use the download link below.*"
      ],
      "text/plain": [
       "<IPython.core.display.HTML object>"
      ]
     },
     "metadata": {},
     "output_type": "display_data"
    },
    {
     "data": {
      "text/html": [
       "<b>Table 8: Availability Allocation Performance Metrics</b><br>This table provides key metrics summarizing the allocation's effectiveness, including total guests allocated, revenue earned, and average guest satisfaction."
      ],
      "text/plain": [
       "<IPython.core.display.HTML object>"
      ]
     },
     "metadata": {},
     "output_type": "display_data"
    },
    {
     "data": {
      "text/html": [
       "<style type=\"text/css\">\n",
       "#T_e13c8 th {\n",
       "  font-size: 12pt;\n",
       "  text-align: center;\n",
       "}\n",
       "#T_e13c8_row0_col0, #T_e13c8_row1_col0, #T_e13c8_row2_col0, #T_e13c8_row3_col0, #T_e13c8_row4_col0, #T_e13c8_row5_col0, #T_e13c8_row6_col0 {\n",
       "  text-align: left;\n",
       "  font-size: 12pt;\n",
       "}\n",
       "#T_e13c8_row0_col1, #T_e13c8_row1_col1 {\n",
       "  background-color: #f6faff;\n",
       "  color: #000000;\n",
       "  text-align: left;\n",
       "  font-size: 12pt;\n",
       "}\n",
       "#T_e13c8_row2_col1, #T_e13c8_row3_col1, #T_e13c8_row5_col1, #T_e13c8_row6_col1 {\n",
       "  background-color: #f7fbff;\n",
       "  color: #000000;\n",
       "  text-align: left;\n",
       "  font-size: 12pt;\n",
       "}\n",
       "#T_e13c8_row4_col1 {\n",
       "  background-color: #08306b;\n",
       "  color: #f1f1f1;\n",
       "  text-align: left;\n",
       "  font-size: 12pt;\n",
       "}\n",
       "</style>\n",
       "<table id=\"T_e13c8\">\n",
       "  <thead>\n",
       "    <tr>\n",
       "      <th class=\"blank level0\" >&nbsp;</th>\n",
       "      <th id=\"T_e13c8_level0_col0\" class=\"col_heading level0 col0\" >Metric</th>\n",
       "      <th id=\"T_e13c8_level0_col1\" class=\"col_heading level0 col1\" >Value</th>\n",
       "    </tr>\n",
       "  </thead>\n",
       "  <tbody>\n",
       "    <tr>\n",
       "      <th id=\"T_e13c8_level0_row0\" class=\"row_heading level0 row0\" >0</th>\n",
       "      <td id=\"T_e13c8_row0_col0\" class=\"data row0 col0\" >Total Guests Allocated</td>\n",
       "      <td id=\"T_e13c8_row0_col1\" class=\"data row0 col1\" >3,874</td>\n",
       "    </tr>\n",
       "    <tr>\n",
       "      <th id=\"T_e13c8_level0_row1\" class=\"row_heading level0 row1\" >1</th>\n",
       "      <td id=\"T_e13c8_row1_col0\" class=\"data row1 col0\" >Total Rooms Filled</td>\n",
       "      <td id=\"T_e13c8_row1_col1\" class=\"data row1 col1\" >3,874</td>\n",
       "    </tr>\n",
       "    <tr>\n",
       "      <th id=\"T_e13c8_level0_row2\" class=\"row_heading level0 row2\" >2</th>\n",
       "      <td id=\"T_e13c8_row2_col0\" class=\"data row2 col0\" >Number of Hotels Utilized</td>\n",
       "      <td id=\"T_e13c8_row2_col1\" class=\"data row2 col1\" >397</td>\n",
       "    </tr>\n",
       "    <tr>\n",
       "      <th id=\"T_e13c8_level0_row3\" class=\"row_heading level0 row3\" >3</th>\n",
       "      <td id=\"T_e13c8_row3_col0\" class=\"data row3 col0\" >Full Capacity Hotels Count</td>\n",
       "      <td id=\"T_e13c8_row3_col1\" class=\"data row3 col1\" >344</td>\n",
       "    </tr>\n",
       "    <tr>\n",
       "      <th id=\"T_e13c8_level0_row4\" class=\"row_heading level0 row4\" >4</th>\n",
       "      <td id=\"T_e13c8_row4_col0\" class=\"data row4 col0\" >Overall Revenue Earned</td>\n",
       "      <td id=\"T_e13c8_row4_col1\" class=\"data row4 col1\" >€629,523.3500</td>\n",
       "    </tr>\n",
       "    <tr>\n",
       "      <th id=\"T_e13c8_level0_row5\" class=\"row_heading level0 row5\" >5</th>\n",
       "      <td id=\"T_e13c8_row5_col0\" class=\"data row5 col0\" >Average Earnings Per Hotel</td>\n",
       "      <td id=\"T_e13c8_row5_col1\" class=\"data row5 col1\" >€1,585.7000</td>\n",
       "    </tr>\n",
       "    <tr>\n",
       "      <th id=\"T_e13c8_level0_row6\" class=\"row_heading level0 row6\" >6</th>\n",
       "      <td id=\"T_e13c8_row6_col0\" class=\"data row6 col0\" >Average Guest Satisfaction</td>\n",
       "      <td id=\"T_e13c8_row6_col1\" class=\"data row6 col1\" >3.46</td>\n",
       "    </tr>\n",
       "  </tbody>\n",
       "</table>\n"
      ],
      "text/plain": [
       "<pandas.io.formats.style.Styler at 0x272c9450690>"
      ]
     },
     "metadata": {},
     "output_type": "display_data"
    },
    {
     "data": {
      "text/html": [
       "*Note: Guest satisfaction scores range from 1 to 5, with 1 being the guest's top choice and 5 being around their last preference.*"
      ],
      "text/plain": [
       "<IPython.core.display.HTML object>"
      ]
     },
     "metadata": {},
     "output_type": "display_data"
    },
    {
     "data": {
      "text/html": [
       "Download CSV: <a href='results\\availability_allocation_results.csv' target='_blank'>results\\availability_allocation_results.csv</a><br>"
      ],
      "text/plain": [
       "C:\\Users\\irpay\\results\\availability_allocation_results.csv"
      ]
     },
     "metadata": {},
     "output_type": "display_data"
    },
    {
     "data": {
      "text/html": [
       "Download Summary Report: <a href='results\\summary_report_availability_allocation.txt' target='_blank'>results\\summary_report_availability_allocation.txt</a><br>"
      ],
      "text/plain": [
       "C:\\Users\\irpay\\results\\summary_report_availability_allocation.txt"
      ]
     },
     "metadata": {},
     "output_type": "display_data"
    },
    {
     "data": {
      "text/html": [
       "<h2>Strategy Comparison Table</h2><p>This table compares the different allocation strategies based on various metrics, such as total guests allocated, total rooms filled, and average guest satisfaction. All values are rounded to four decimal places for clarity.</p>"
      ],
      "text/plain": [
       "<IPython.core.display.HTML object>"
      ]
     },
     "metadata": {},
     "output_type": "display_data"
    },
    {
     "data": {
      "text/html": [
       "<style type=\"text/css\">\n",
       "#T_083cb th {\n",
       "  font-size: 12pt;\n",
       "  text-align: center;\n",
       "}\n",
       "#T_083cb_row0_col0, #T_083cb_row1_col0, #T_083cb_row2_col0, #T_083cb_row3_col0 {\n",
       "  text-align: left;\n",
       "  font-size: 12pt;\n",
       "}\n",
       "#T_083cb_row0_col1, #T_083cb_row0_col2 {\n",
       "  background-color: #4292c6;\n",
       "  color: #f1f1f1;\n",
       "  text-align: left;\n",
       "  font-size: 12pt;\n",
       "}\n",
       "#T_083cb_row0_col3 {\n",
       "  background-color: #e7f0fa;\n",
       "  color: #000000;\n",
       "  text-align: left;\n",
       "  font-size: 12pt;\n",
       "}\n",
       "#T_083cb_row0_col4 {\n",
       "  background-color: #2373b6;\n",
       "  color: #f1f1f1;\n",
       "  text-align: left;\n",
       "  font-size: 12pt;\n",
       "}\n",
       "#T_083cb_row0_col5 {\n",
       "  background-color: #1865ac;\n",
       "  color: #f1f1f1;\n",
       "  text-align: left;\n",
       "  font-size: 12pt;\n",
       "}\n",
       "#T_083cb_row0_col6, #T_083cb_row1_col1, #T_083cb_row1_col2, #T_083cb_row1_col3, #T_083cb_row1_col5, #T_083cb_row3_col4, #T_083cb_row3_col7 {\n",
       "  background-color: #08306b;\n",
       "  color: #f1f1f1;\n",
       "  text-align: left;\n",
       "  font-size: 12pt;\n",
       "}\n",
       "#T_083cb_row0_col7 {\n",
       "  background-color: #08326e;\n",
       "  color: #f1f1f1;\n",
       "  text-align: left;\n",
       "  font-size: 12pt;\n",
       "}\n",
       "#T_083cb_row1_col4, #T_083cb_row1_col7, #T_083cb_row2_col3, #T_083cb_row2_col5, #T_083cb_row2_col6, #T_083cb_row3_col1, #T_083cb_row3_col2 {\n",
       "  background-color: #f7fbff;\n",
       "  color: #000000;\n",
       "  text-align: left;\n",
       "  font-size: 12pt;\n",
       "}\n",
       "#T_083cb_row1_col6 {\n",
       "  background-color: #083674;\n",
       "  color: #f1f1f1;\n",
       "  text-align: left;\n",
       "  font-size: 12pt;\n",
       "}\n",
       "#T_083cb_row2_col1, #T_083cb_row2_col2 {\n",
       "  background-color: #69add5;\n",
       "  color: #f1f1f1;\n",
       "  text-align: left;\n",
       "  font-size: 12pt;\n",
       "}\n",
       "#T_083cb_row2_col4 {\n",
       "  background-color: #2979b9;\n",
       "  color: #f1f1f1;\n",
       "  text-align: left;\n",
       "  font-size: 12pt;\n",
       "}\n",
       "#T_083cb_row2_col7 {\n",
       "  background-color: #083471;\n",
       "  color: #f1f1f1;\n",
       "  text-align: left;\n",
       "  font-size: 12pt;\n",
       "}\n",
       "#T_083cb_row3_col3 {\n",
       "  background-color: #2070b4;\n",
       "  color: #f1f1f1;\n",
       "  text-align: left;\n",
       "  font-size: 12pt;\n",
       "}\n",
       "#T_083cb_row3_col5 {\n",
       "  background-color: #125ea6;\n",
       "  color: #f1f1f1;\n",
       "  text-align: left;\n",
       "  font-size: 12pt;\n",
       "}\n",
       "#T_083cb_row3_col6 {\n",
       "  background-color: #115ca5;\n",
       "  color: #f1f1f1;\n",
       "  text-align: left;\n",
       "  font-size: 12pt;\n",
       "}\n",
       "</style>\n",
       "<table id=\"T_083cb\">\n",
       "  <thead>\n",
       "    <tr>\n",
       "      <th class=\"blank level0\" >&nbsp;</th>\n",
       "      <th id=\"T_083cb_level0_col0\" class=\"col_heading level0 col0\" >Strategy</th>\n",
       "      <th id=\"T_083cb_level0_col1\" class=\"col_heading level0 col1\" >Total Guests Allocated</th>\n",
       "      <th id=\"T_083cb_level0_col2\" class=\"col_heading level0 col2\" >Total Rooms Filled</th>\n",
       "      <th id=\"T_083cb_level0_col3\" class=\"col_heading level0 col3\" >Number of Hotels Utilized</th>\n",
       "      <th id=\"T_083cb_level0_col4\" class=\"col_heading level0 col4\" >Full Capacity Hotels Count</th>\n",
       "      <th id=\"T_083cb_level0_col5\" class=\"col_heading level0 col5\" >Overall Revenue Earned</th>\n",
       "      <th id=\"T_083cb_level0_col6\" class=\"col_heading level0 col6\" >Average Earnings Per Hotel</th>\n",
       "      <th id=\"T_083cb_level0_col7\" class=\"col_heading level0 col7\" >Average Guest Satisfaction</th>\n",
       "    </tr>\n",
       "  </thead>\n",
       "  <tbody>\n",
       "    <tr>\n",
       "      <th id=\"T_083cb_level0_row0\" class=\"row_heading level0 row0\" >0</th>\n",
       "      <td id=\"T_083cb_row0_col0\" class=\"data row0 col0\" >Random</td>\n",
       "      <td id=\"T_083cb_row0_col1\" class=\"data row0 col1\" >3937.000000</td>\n",
       "      <td id=\"T_083cb_row0_col2\" class=\"data row0 col2\" >3937.000000</td>\n",
       "      <td id=\"T_083cb_row0_col3\" class=\"data row0 col3\" >389.000000</td>\n",
       "      <td id=\"T_083cb_row0_col4\" class=\"data row0 col4\" >321.000000</td>\n",
       "      <td id=\"T_083cb_row0_col5\" class=\"data row0 col5\" >627415.610000</td>\n",
       "      <td id=\"T_083cb_row0_col6\" class=\"data row0 col6\" >1612.890000</td>\n",
       "      <td id=\"T_083cb_row0_col7\" class=\"data row0 col7\" >3.440000</td>\n",
       "    </tr>\n",
       "    <tr>\n",
       "      <th id=\"T_083cb_level0_row1\" class=\"row_heading level0 row1\" >1</th>\n",
       "      <td id=\"T_083cb_row1_col0\" class=\"data row1 col0\" >Customer Preference</td>\n",
       "      <td id=\"T_083cb_row1_col1\" class=\"data row1 col1\" >3975.000000</td>\n",
       "      <td id=\"T_083cb_row1_col2\" class=\"data row1 col2\" >3975.000000</td>\n",
       "      <td id=\"T_083cb_row1_col3\" class=\"data row1 col3\" >400.000000</td>\n",
       "      <td id=\"T_083cb_row1_col4\" class=\"data row1 col4\" >255.000000</td>\n",
       "      <td id=\"T_083cb_row1_col5\" class=\"data row1 col5\" >643597.530000</td>\n",
       "      <td id=\"T_083cb_row1_col6\" class=\"data row1 col6\" >1608.990000</td>\n",
       "      <td id=\"T_083cb_row1_col7\" class=\"data row1 col7\" >1.320000</td>\n",
       "    </tr>\n",
       "    <tr>\n",
       "      <th id=\"T_083cb_level0_row2\" class=\"row_heading level0 row2\" >2</th>\n",
       "      <td id=\"T_083cb_row2_col0\" class=\"data row2 col0\" >Price</td>\n",
       "      <td id=\"T_083cb_row2_col1\" class=\"data row2 col1\" >3925.000000</td>\n",
       "      <td id=\"T_083cb_row2_col2\" class=\"data row2 col2\" >3925.000000</td>\n",
       "      <td id=\"T_083cb_row2_col3\" class=\"data row2 col3\" >388.000000</td>\n",
       "      <td id=\"T_083cb_row2_col4\" class=\"data row2 col4\" >319.000000</td>\n",
       "      <td id=\"T_083cb_row2_col5\" class=\"data row2 col5\" >564085.080000</td>\n",
       "      <td id=\"T_083cb_row2_col6\" class=\"data row2 col6\" >1453.830000</td>\n",
       "      <td id=\"T_083cb_row2_col7\" class=\"data row2 col7\" >3.420000</td>\n",
       "    </tr>\n",
       "    <tr>\n",
       "      <th id=\"T_083cb_level0_row3\" class=\"row_heading level0 row3\" >3</th>\n",
       "      <td id=\"T_083cb_row3_col0\" class=\"data row3 col0\" >Availability</td>\n",
       "      <td id=\"T_083cb_row3_col1\" class=\"data row3 col1\" >3874.000000</td>\n",
       "      <td id=\"T_083cb_row3_col2\" class=\"data row3 col2\" >3874.000000</td>\n",
       "      <td id=\"T_083cb_row3_col3\" class=\"data row3 col3\" >397.000000</td>\n",
       "      <td id=\"T_083cb_row3_col4\" class=\"data row3 col4\" >344.000000</td>\n",
       "      <td id=\"T_083cb_row3_col5\" class=\"data row3 col5\" >629523.350000</td>\n",
       "      <td id=\"T_083cb_row3_col6\" class=\"data row3 col6\" >1585.700000</td>\n",
       "      <td id=\"T_083cb_row3_col7\" class=\"data row3 col7\" >3.460000</td>\n",
       "    </tr>\n",
       "  </tbody>\n",
       "</table>\n"
      ],
      "text/plain": [
       "<pandas.io.formats.style.Styler at 0x272c556c990>"
      ]
     },
     "metadata": {},
     "output_type": "display_data"
    },
    {
     "data": {
      "image/png": "[encoded data removed]",
      "text/plain": [
       "<Figure size 640x480 with 1 Axes>"
      ]
     },
     "metadata": {},
     "output_type": "display_data"
    },
    {
     "data": {
      "image/png": "[encoded data removed]",
      "text/plain": [
       "<Figure size 640x480 with 2 Axes>"
      ]
     },
     "metadata": {},
     "output_type": "display_data"
    }
   ],
   "source": [
    "from HotelAllocation import HotelAllocation  # Ensure you import your class\n",
    "import pandas as pd\n",
    "from IPython.display import display, HTML\n",
    "\n",
    "\n",
    "def main():\n",
    "    # Paths to the data files\n",
    "    hotels_path = 'C:/Users/irpay/OneDrive/Documents/GitHub/payam/hotels.xlsx'\n",
    "    guests_path = 'C:/Users/irpay/OneDrive/Documents/GitHub/payam/guests.xlsx'\n",
    "    preferences_path = 'C:/Users/irpay/OneDrive/Documents/GitHub/payam/preferences.xlsx'\n",
    "\n",
    "    # Create an instance of HotelAllocation\n",
    "    hotel_allocator = HotelAllocation(hotels_path, guests_path, preferences_path)\n",
    "\n",
    "    # Execute Random Allocation Strategy\n",
    "\n",
    "    random_allocation_df = hotel_allocator.random_allocation()\n",
    "    random_results_df = hotel_allocator.calculate_metrics(random_allocation_df)\n",
    "    display(HTML(\"<h2>Random Allocation Strategy Results</h2>\"))\n",
    "    hotel_allocator.display_with_description(\"<b>Table 1: Random Allocation Results Summary</b><br>This table shows the distribution of guests across various hotels, the price paid, and their satisfaction scores.\", random_allocation_df.head(), \"*Note: Only the first 5 rows are displayed for brevity. For the complete data, please use the download link below.*\")\n",
    "    hotel_allocator.display_with_description(\"<b>Table 2: Random Allocation Performance Metrics</b><br>This table provides key metrics summarizing the allocation's effectiveness, including total guests allocated, revenue earned, and average guest satisfaction.\", random_results_df, \"*Note: Guest satisfaction scores range from 1 to 5, with 1 being the guest's top choice and 5 being around their last preference.*\")\n",
    "    csv_path, txt_path = hotel_allocator.save_files(random_allocation_df, random_results_df, 'results', 'random_allocation')\n",
    "    hotel_allocator.display_download_links(csv_path, txt_path)\n",
    "    \n",
    "    # Customer Preference Allocation Strategy\n",
    "\n",
    "    customer_preference_allocation_df = hotel_allocator.customer_preference_allocation()\n",
    "    customer_preference_results_df = hotel_allocator.calculate_metrics(customer_preference_allocation_df)\n",
    "    display(HTML(\"<h2>Customer Preference Allocation Strategy Results</h2>\"))\n",
    "    hotel_allocator.display_with_description(\"<b>Table 3: Customer Preference Allocation Results Summary</b><br>This table shows the distribution of guests across various hotels, the price paid, and their satisfaction scores.\", customer_preference_allocation_df.head(), \"*Note: Only the first 5 rows are displayed for brevity. For the complete data, please use the download link below.*\")\n",
    "    hotel_allocator.display_with_description(\"<b>Table 4: Customer Preference Allocation Performance Metrics</b><br>This table provides key metrics summarizing the allocation's effectiveness, including total guests allocated, revenue earned, and average guest satisfaction.\", customer_preference_results_df, \"*Note: Guest satisfaction scores range from 1 to 5, with 1 being the guest's top choice and 5 being around their last preference.*\")\n",
    "    csv_path, txt_path = hotel_allocator.save_files(customer_preference_allocation_df, customer_preference_results_df, 'results', 'customer_preference')\n",
    "    hotel_allocator.display_download_links(csv_path, txt_path)\n",
    "\n",
    "    # Price Allocation Strategy\n",
    "\n",
    "    price_allocation_df = hotel_allocator.price_allocation()\n",
    "    price_allocation_results_df = hotel_allocator.calculate_metrics(price_allocation_df)\n",
    "    display(HTML(\"<h2>Price Allocation Strategy Results</h2>\"))\n",
    "    hotel_allocator.display_with_description(\"<b>Table 5: Price Allocation Results Summary</b><br>This table shows the distribution of guests across various hotels, the price paid, and their satisfaction scores.\", price_allocation_df.head(), \"*Note: Only the first 5 rows are displayed for brevity. For the complete data, please use the download link below.*\")\n",
    "    hotel_allocator.display_with_description(\"<b>Table 6: Price Allocation Performance Metrics</b><br>This table provides key metrics summarizing the allocation's effectiveness, including total guests allocated, revenue earned, and average guest satisfaction.\", price_allocation_results_df, \"*Note: Guest satisfaction scores range from 1 to 5, with 1 being the guest's top choice and 5 being around their last preference.*\")\n",
    "    csv_path, txt_path = hotel_allocator.save_files(price_allocation_df, price_allocation_results_df, 'results', 'price_allocation')\n",
    "    hotel_allocator.display_download_links(csv_path, txt_path)\n",
    "\n",
    "    # Availability Allocation Strategy\n",
    "    availability_allocation_df = hotel_allocator.availability_allocation()\n",
    "    availability_allocation_results_df = hotel_allocator.calculate_metrics(availability_allocation_df)\n",
    "    display(HTML(\"<h2>Availability Allocation Strategy Results</h2>\"))\n",
    "    hotel_allocator.display_with_description(\"<b>Table 7: Availability Allocation Results Summary</b><br>This table shows the distribution of guests across various hotels, the price paid, and their satisfaction scores.\", availability_allocation_df.head(), \"*Note: Only the first 5 rows are displayed for brevity. For the complete data, please use the download link below.*\")\n",
    "    hotel_allocator.display_with_description(\"<b>Table 8: Availability Allocation Performance Metrics</b><br>This table provides key metrics summarizing the allocation's effectiveness, including total guests allocated, revenue earned, and average guest satisfaction.\", availability_allocation_results_df, \"*Note: Guest satisfaction scores range from 1 to 5, with 1 being the guest's top choice and 5 being around their last preference.*\")\n",
    "    csv_path, txt_path = hotel_allocator.save_files(availability_allocation_df, availability_allocation_results_df, 'results', 'availability_allocation')\n",
    "    hotel_allocator.display_download_links(csv_path, txt_path)\n",
    "    \n",
    "    \n",
    "\n",
    "    # Extract metrics for each strategy\n",
    "    random_metrics = hotel_allocator.extract_metrics(random_results_df)\n",
    "    customer_preference_metrics = hotel_allocator.extract_metrics(customer_preference_results_df)\n",
    "    price_allocation_metrics = hotel_allocator.extract_metrics(price_allocation_results_df)\n",
    "    availability_allocation_metrics = hotel_allocator.extract_metrics(availability_allocation_results_df)\n",
    "\n",
    "    # Create and concatenate dataframes for each strategy\n",
    "    comparison_df = pd.DataFrame(columns=[\n",
    "        'Strategy', \n",
    "        'Total Guests Allocated', \n",
    "        'Total Rooms Filled', \n",
    "        'Number of Hotels Utilized', \n",
    "        'Full Capacity Hotels Count', \n",
    "        'Overall Revenue Earned', \n",
    "        'Average Earnings Per Hotel', \n",
    "        'Average Guest Satisfaction'\n",
    "    ])\n",
    "    df_random = pd.DataFrame([{**{'Strategy': 'Random Allocation'}, **random_metrics}])\n",
    "    df_customer_preference = pd.DataFrame([{**{'Strategy': 'Customer Preference Allocation'}, **customer_preference_metrics}])\n",
    "    df_price_allocation = pd.DataFrame([{**{'Strategy': 'Price Allocation'}, **price_allocation_metrics}])\n",
    "    df_availability_allocation = pd.DataFrame([{**{'Strategy': 'Availability Allocation'}, **availability_allocation_metrics}])\n",
    "    comparison_df = pd.concat([comparison_df, df_random, df_customer_preference, df_price_allocation, df_availability_allocation], ignore_index=True)\n",
    "\n",
    "    comparison_df = hotel_allocator.shorten_strategy_names(comparison_df)\n",
    "    \n",
    "\n",
    "\n",
    "    # HTML Description for the comparison table\n",
    "    comparison_table_description = \"<h2>Strategy Comparison Table</h2>\" \\\n",
    "                                   \"<p>This table compares the different allocation strategies based on various metrics, \" \\\n",
    "                                   \"such as total guests allocated, total rooms filled, and average guest satisfaction. \" \\\n",
    "                                   \"All values are rounded to four decimal places for clarity.</p>\"\n",
    "\n",
    "\n",
    "    # Display the comparison table with HTML formatting and post-description\n",
    "    hotel_allocator.display_with_description(comparison_table_description, comparison_df, None)\n",
    "\n",
    "\n",
    "    \n",
    "    # Plotting Satisfaction and Revenue Charts\n",
    "    hotel_allocator.plot_Satisfaction(comparison_df)\n",
    "    hotel_allocator.plot_revenue_chart(comparison_df)\n",
    "\n",
    "if __name__ == \"__main__\":\n",
    "    main()\n"
   ]
  },
  {
   "cell_type": "code",
   "execution_count": null,
   "id": "b9413197",
   "metadata": {},
   "outputs": [],
   "source": []
  },
  {
   "cell_type": "code",
   "execution_count": null,
   "id": "452b1b32",
   "metadata": {},
   "outputs": [],
   "source": []
  },
  {
   "cell_type": "code",
   "execution_count": null,
   "id": "b3b0a769",
   "metadata": {},
   "outputs": [],
   "source": []
  }
 ],
 "metadata": {
  "kernelspec": {
   "display_name": "Python 3 (ipykernel)",
   "language": "python",
   "name": "python3"
  },
  "language_info": {
   "codemirror_mode": {
    "name": "ipython",
    "version": 3
   },
   "file_extension": ".py",
   "mimetype": "text/x-python",
   "name": "python",
   "nbconvert_exporter": "python",
   "pygments_lexer": "ipython3",
   "version": "3.11.5"
  }
 },
 "nbformat": 4,
 "nbformat_minor": 5
}
