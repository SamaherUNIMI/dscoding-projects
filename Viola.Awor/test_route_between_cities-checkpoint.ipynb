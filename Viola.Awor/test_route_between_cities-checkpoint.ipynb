{
  "cells": [
    {
      "cell_type": "markdown",
      "id": "j56AsR1HLHG5",
      "metadata": {
        "id": "j56AsR1HLHG5"
      },
      "source": [
        "## Project 2 <a class=\"anchor\" id=\"second\"></a>"
      ]
    },
    {
      "cell_type": "code",
      "execution_count": 10,
      "id": "WT2r29VrF0ZW",
      "metadata": {
        "colab": {
          "base_uri": "https://localhost:8080/"
        },
        "id": "WT2r29VrF0ZW",
        "outputId": "e9823d5a-6594-4b23-b006-f9f040557b94"
      },
      "outputs": [
        {
          "name": "stdout",
          "output_type": "stream",
          "text": [
            "Requirement already satisfied: haversine in c:\\users\\acer\\appdata\\local\\programs\\python\\python39\\lib\\site-packages (2.8.0)\n",
            "Note: you may need to restart the kernel to use updated packages.\n"
          ]
        },
        {
          "name": "stderr",
          "output_type": "stream",
          "text": [
            "WARNING: You are using pip version 20.2.3; however, version 23.3.1 is available.\n",
            "You should consider upgrading via the 'c:\\Users\\Acer\\AppData\\Local\\Programs\\Python\\Python39\\python.exe -m pip install --upgrade pip' command.\n"
          ]
        }
      ],
      "source": [
        "%pip install haversine"
      ]
    },
    {
      "cell_type": "code",
      "execution_count": 2,
      "id": "7d36c7e8",
      "metadata": {
        "id": "7d36c7e8"
      },
      "outputs": [],
      "source": [
        "import numpy as np\n",
        "import pandas as pd\n",
        "\n",
        "from route_between_cities import route_between_cities\n",
        "\n"
      ]
    },
    {
      "cell_type": "code",
      "execution_count": 3,
      "id": "A2RoirSEGq7h",
      "metadata": {
        "colab": {
          "base_uri": "https://localhost:8080/",
          "height": 204
        },
        "id": "A2RoirSEGq7h",
        "outputId": "98b4f996-d727-4b26-837f-a8750928d1d7"
      },
      "outputs": [
        {
          "data": {
            "text/html": [
              "<div>\n",
              "<style scoped>\n",
              "    .dataframe tbody tr th:only-of-type {\n",
              "        vertical-align: middle;\n",
              "    }\n",
              "\n",
              "    .dataframe tbody tr th {\n",
              "        vertical-align: top;\n",
              "    }\n",
              "\n",
              "    .dataframe thead th {\n",
              "        text-align: right;\n",
              "    }\n",
              "</style>\n",
              "<table border=\"1\" class=\"dataframe\">\n",
              "  <thead>\n",
              "    <tr style=\"text-align: right;\">\n",
              "      <th></th>\n",
              "      <th>dt</th>\n",
              "      <th>AverageTemperature</th>\n",
              "      <th>AverageTemperatureUncertainty</th>\n",
              "      <th>City</th>\n",
              "      <th>Country</th>\n",
              "      <th>Latitude</th>\n",
              "      <th>Longitude</th>\n",
              "    </tr>\n",
              "  </thead>\n",
              "  <tbody>\n",
              "    <tr>\n",
              "      <th>0</th>\n",
              "      <td>1849-01-01</td>\n",
              "      <td>26.704</td>\n",
              "      <td>1.435</td>\n",
              "      <td>Abidjan</td>\n",
              "      <td>Côte D'Ivoire</td>\n",
              "      <td>5.63N</td>\n",
              "      <td>3.23W</td>\n",
              "    </tr>\n",
              "    <tr>\n",
              "      <th>1</th>\n",
              "      <td>1849-02-01</td>\n",
              "      <td>27.434</td>\n",
              "      <td>1.362</td>\n",
              "      <td>Abidjan</td>\n",
              "      <td>Côte D'Ivoire</td>\n",
              "      <td>5.63N</td>\n",
              "      <td>3.23W</td>\n",
              "    </tr>\n",
              "    <tr>\n",
              "      <th>2</th>\n",
              "      <td>1849-03-01</td>\n",
              "      <td>28.101</td>\n",
              "      <td>1.612</td>\n",
              "      <td>Abidjan</td>\n",
              "      <td>Côte D'Ivoire</td>\n",
              "      <td>5.63N</td>\n",
              "      <td>3.23W</td>\n",
              "    </tr>\n",
              "    <tr>\n",
              "      <th>3</th>\n",
              "      <td>1849-04-01</td>\n",
              "      <td>26.140</td>\n",
              "      <td>1.387</td>\n",
              "      <td>Abidjan</td>\n",
              "      <td>Côte D'Ivoire</td>\n",
              "      <td>5.63N</td>\n",
              "      <td>3.23W</td>\n",
              "    </tr>\n",
              "    <tr>\n",
              "      <th>4</th>\n",
              "      <td>1849-05-01</td>\n",
              "      <td>25.427</td>\n",
              "      <td>1.200</td>\n",
              "      <td>Abidjan</td>\n",
              "      <td>Côte D'Ivoire</td>\n",
              "      <td>5.63N</td>\n",
              "      <td>3.23W</td>\n",
              "    </tr>\n",
              "  </tbody>\n",
              "</table>\n",
              "</div>"
            ],
            "text/plain": [
              "           dt  AverageTemperature  AverageTemperatureUncertainty     City  \\\n",
              "0  1849-01-01              26.704                          1.435  Abidjan   \n",
              "1  1849-02-01              27.434                          1.362  Abidjan   \n",
              "2  1849-03-01              28.101                          1.612  Abidjan   \n",
              "3  1849-04-01              26.140                          1.387  Abidjan   \n",
              "4  1849-05-01              25.427                          1.200  Abidjan   \n",
              "\n",
              "         Country Latitude Longitude  \n",
              "0  Côte D'Ivoire    5.63N     3.23W  \n",
              "1  Côte D'Ivoire    5.63N     3.23W  \n",
              "2  Côte D'Ivoire    5.63N     3.23W  \n",
              "3  Côte D'Ivoire    5.63N     3.23W  \n",
              "4  Côte D'Ivoire    5.63N     3.23W  "
            ]
          },
          "execution_count": 3,
          "metadata": {},
          "output_type": "execute_result"
        }
      ],
      "source": [
        "df_MajorCity = pd.read_csv('GlobalLandTemperaturesByMajorCity.csv')\n",
        "df_MajorCity.head()"
      ]
    },
    {
      "cell_type": "code",
      "execution_count": null,
      "id": "Tf9iswilEjii",
      "metadata": {
        "id": "Tf9iswilEjii"
      },
      "outputs": [],
      "source": []
    },
    {
      "cell_type": "code",
      "execution_count": 4,
      "id": "SdO3tc5RFicr",
      "metadata": {
        "colab": {
          "base_uri": "https://localhost:8080/",
          "height": 453
        },
        "id": "SdO3tc5RFicr",
        "outputId": "5670290b-ea8f-4b13-a3a4-ec8251bbe001"
      },
      "outputs": [
        {
          "data": {
            "text/plain": [
              "['Peking', 'Tangshan', 'Jinan', 'Los Angeles']"
            ]
          },
          "execution_count": 4,
          "metadata": {},
          "output_type": "execute_result"
        }
      ],
      "source": [
        "object_1 = route_between_cities(df_MajorCity, year=2013, current_city='Peking', last_city='Los Angeles')\n",
        "\n",
        "route = object_1.find_route()\n",
        "route"
      ]
    },
    {
      "cell_type": "code",
      "execution_count": 5,
      "id": "0xV8AvSa6qFe",
      "metadata": {
        "colab": {
          "base_uri": "https://localhost:8080/"
        },
        "id": "0xV8AvSa6qFe",
        "outputId": "74c0f527-39c5-46e6-a536-35fc77e8489a"
      },
      "outputs": [
        {
          "data": {
            "text/plain": [
              "['Peking', 'Tianjin', 'Jinan', 'Los Angeles']"
            ]
          },
          "execution_count": 5,
          "metadata": {},
          "output_type": "execute_result"
        }
      ],
      "source": [
        "object_1 = route_between_cities(df_MajorCity, year=1970, current_city='Peking', last_city='Los Angeles')\n",
        "\n",
        "route = object_1.find_route()\n",
        "route"
      ]
    },
    {
      "cell_type": "code",
      "execution_count": 7,
      "id": "nWokKGr96qIQ",
      "metadata": {
        "colab": {
          "base_uri": "https://localhost:8080/"
        },
        "id": "nWokKGr96qIQ",
        "outputId": "0726738e-da89-41e1-a163-e48230794144"
      },
      "outputs": [
        {
          "data": {
            "text/plain": [
              "['Chengdu', 'Chongqing', 'Guangzhou', 'Taipei', 'Wuhan', 'Los Angeles']"
            ]
          },
          "execution_count": 7,
          "metadata": {},
          "output_type": "execute_result"
        }
      ],
      "source": [
        "object_1 = route_between_cities(df_MajorCity, year=2013, current_city='Chengdu', last_city='Los Angeles')\n",
        "\n",
        "route = object_1.find_route()\n",
        "route"
      ]
    },
    {
      "cell_type": "code",
      "execution_count": 8,
      "id": "1ARdCEja7Ocj",
      "metadata": {
        "colab": {
          "base_uri": "https://localhost:8080/"
        },
        "id": "1ARdCEja7Ocj",
        "outputId": "95c47b84-38d2-431b-b935-ed2e2ff90bdc"
      },
      "outputs": [
        {
          "data": {
            "text/plain": [
              "['Guangzhou', 'Taipei', 'Wuhan', 'Shanghai', 'Nanjing', 'Los Angeles']"
            ]
          },
          "execution_count": 8,
          "metadata": {},
          "output_type": "execute_result"
        }
      ],
      "source": [
        "object_1 = route_between_cities(df_MajorCity, year=1990, current_city='Guangzhou', last_city='Los Angeles')\n",
        "\n",
        "route = object_1.find_route()\n",
        "route"
      ]
    },
    {
      "cell_type": "code",
      "execution_count": 9,
      "id": "GUH-AV8u7asO",
      "metadata": {
        "colab": {
          "base_uri": "https://localhost:8080/"
        },
        "id": "GUH-AV8u7asO",
        "outputId": "3841f584-6a52-4954-9c8f-7284e05f53ae"
      },
      "outputs": [
        {
          "data": {
            "text/plain": [
              "['Wuhan', 'Los Angeles']"
            ]
          },
          "execution_count": 9,
          "metadata": {},
          "output_type": "execute_result"
        }
      ],
      "source": [
        "object_1 = route_between_cities(df_MajorCity, year=2013, current_city='Wuhan', last_city='Los Angeles')\n",
        "\n",
        "route = object_1.find_route()\n",
        "route"
      ]
    },
    {
      "cell_type": "code",
      "execution_count": 10,
      "id": "R2koN-vL6qMa",
      "metadata": {
        "colab": {
          "base_uri": "https://localhost:8080/"
        },
        "id": "R2koN-vL6qMa",
        "outputId": "0b328e02-eae6-4b4e-eb9e-ff44d3818db9"
      },
      "outputs": [
        {
          "data": {
            "text/plain": [
              "['Shenyang', 'Seoul', 'Los Angeles']"
            ]
          },
          "execution_count": 10,
          "metadata": {},
          "output_type": "execute_result"
        }
      ],
      "source": [
        "object_1 = route_between_cities(df_MajorCity, year=2013, current_city='Shenyang', last_city='Los Angeles')\n",
        "\n",
        "route = object_1.find_route()\n",
        "route"
      ]
    },
    {
      "cell_type": "code",
      "execution_count": 11,
      "id": "NZm9dNFo6mUu",
      "metadata": {
        "colab": {
          "base_uri": "https://localhost:8080/"
        },
        "id": "NZm9dNFo6mUu",
        "outputId": "bd6b48d1-ffe5-4099-eb2c-3235228a9229"
      },
      "outputs": [
        {
          "data": {
            "text/plain": [
              "['Xian', 'Chongqing', 'Guangzhou', 'Taipei', 'Wuhan', 'Los Angeles']"
            ]
          },
          "execution_count": 11,
          "metadata": {},
          "output_type": "execute_result"
        }
      ],
      "source": [
        "object_1 = route_between_cities(df_MajorCity, year=1970, current_city='Xian', last_city='Los Angeles')\n",
        "\n",
        "route = object_1.find_route()\n",
        "route"
      ]
    },
    {
      "cell_type": "code",
      "execution_count": null,
      "metadata": {},
      "outputs": [],
      "source": []
    },
    {
      "cell_type": "code",
      "execution_count": 1,
      "metadata": {},
      "outputs": [],
      "source": [
        "\n",
        "#plotting a map to show the movement from Pekking to los Angeles.\n",
        "\n",
        "import numpy as np\n",
        "import pandas as pd\n",
        "import geopandas as gpd\n",
        "from shapely.geometry import Point\n",
        "import matplotlib.pyplot as plt\n",
        "from matplotlib.animation import FuncAnimation\n",
        "\n",
        "class route_between_cities:\n",
        "    def __init__(self, df:pd.DataFrame, year:int=2013, current_city:str='Peking', last_city:str='Los Angeles'):\n",
        "     self.df = df\n",
        "     self.year = year\n",
        "     self.current_city = current_city\n",
        "     self.last_city = last_city\n",
        "\n",
        "    def animate_route_on_map(self, route):\n",
        "        gdf = self.create_geo_dataframe()\n",
        "\n",
        "        # Create a GeoDataFrame for the entire route\n",
        "        route_gdf = gdf[gdf['City'].isin(route)]\n",
        "\n",
        "        # Plot the initial world map\n",
        "        world = gpd.read_file(gpd.datasets.get_path('naturalearth_lowres'))\n",
        "        fig, ax = plt.subplots(figsize=(12, 8))\n",
        "        world.plot(ax=ax, color='lightgrey')\n",
        "        plt.title('Movement from Peking to Los Angeles (Year 2013)')\n",
        "\n",
        "        # Initialize the animation function\n",
        "        def update(frame):\n",
        "            ax.clear()\n",
        "            world.plot(ax=ax, color='lightgrey')\n",
        "            \n",
        "            # Filter GeoDataFrame for cities up to the current frame\n",
        "            current_route = route[:frame + 1]\n",
        "            current_route_gdf = gdf[gdf['City'].isin(current_route)]\n",
        "\n",
        "            # Plot the current route on the map\n",
        "            current_route_gdf.plot(ax=ax, marker='o', color='blue', markersize=50)\n",
        "\n",
        "            # Annotate each city with its name\n",
        "            for city, x, y in zip(current_route_gdf['City'], current_route_gdf.geometry.x, current_route_gdf.geometry.y):\n",
        "                ax.text(x, y, city, fontsize=8)\n",
        "\n",
        "        # Create the animation\n",
        "        animation = FuncAnimation(fig, update, frames=len(route), interval=1000, repeat=False)\n",
        "\n",
        "        # Display the animation\n",
        "        plt.show()\n",
        "\n"
      ]
    },
    {
      "cell_type": "code",
      "execution_count": null,
      "metadata": {},
      "outputs": [],
      "source": []
    }
  ],
  "metadata": {
    "colab": {
      "provenance": []
    },
    "kernelspec": {
      "display_name": "Python 3",
      "language": "python",
      "name": "python3"
    },
    "language_info": {
      "codemirror_mode": {
        "name": "ipython",
        "version": 3
      },
      "file_extension": ".py",
      "mimetype": "text/x-python",
      "name": "python",
      "nbconvert_exporter": "python",
      "pygments_lexer": "ipython3",
      "version": "3.9.1"
    }
  },
  "nbformat": 4,
  "nbformat_minor": 5
}
