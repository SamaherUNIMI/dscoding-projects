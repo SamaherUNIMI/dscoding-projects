{
 "cells": [
  {
   "cell_type": "code",
   "execution_count": 1,
   "id": "da7e7d78",
   "metadata": {},
   "outputs": [],
   "source": [
    "#import pandas, streamlit and geopy libraries\n",
    "import streamlit as st\n",
    "import pandas as pd\n",
    "from geopy.distance import geodesic"
   ]
  },
  {
   "cell_type": "code",
   "execution_count": 2,
   "id": "66818867",
   "metadata": {},
   "outputs": [],
   "source": [
    "#name the Project\n",
    "st.set_page_config(page_title=\"My Travel App\")"
   ]
  },
  {
   "cell_type": "code",
   "execution_count": 3,
   "id": "308cd034",
   "metadata": {
    "collapsed": true
   },
   "outputs": [
    {
     "name": "stderr",
     "output_type": "stream",
     "text": [
      "2023-11-21 12:06:35.298 WARNING streamlit.runtime.caching.cache_data_api: No runtime found, using MemoryCacheStorageManager\n",
      "2023-11-21 12:06:35.656 \n",
      "  \u001b[33m\u001b[1mWarning:\u001b[0m to view this Streamlit app on a browser, run it with the following\n",
      "  command:\n",
      "\n",
      "    streamlit run /Users/azatbekovna/anaconda3/lib/python3.11/site-packages/ipykernel_launcher.py [ARGUMENTS]\n",
      "2023-11-21 12:06:35.657 No runtime found, using MemoryCacheStorageManager\n"
     ]
    }
   ],
   "source": [
    "#get Dataset\n",
    "@st.cache_data\n",
    "def get_dataset():\n",
    "    url = \"http://island.ricerca.di.unimi.it/~alfio/shared/worldcities.xlsx\"\n",
    "    return pd.read_excel(url)\n",
    "\n",
    "#Set dataset\n",
    "world_cities_dataset = get_dataset()"
   ]
  },
  {
   "cell_type": "code",
   "execution_count": null,
   "id": "04001089",
   "metadata": {},
   "outputs": [],
   "source": [
    "#Return dataset\n",
    "#world_cities_dataset"
   ]
  },
  {
   "cell_type": "code",
   "execution_count": 4,
   "id": "d2805802",
   "metadata": {},
   "outputs": [],
   "source": [
    "#introduce helper functions\n",
    "\n",
    "#gets city_id\n",
    "def get_city_id(city, cities_map):\n",
    "    return cities_map[city]\n",
    "\n",
    "#calculates distance\n",
    "def calculate_distance(city1_id, city2_id):\n",
    "    coords1 = (world_cities_dataset.loc[world_cities_dataset['id'] == city1_id, 'lat'].values[0],\n",
    "                       world_cities_dataset.loc[world_cities_dataset['id'] == city1_id, 'lng'].values[0]) #ex:coordinates of Seoul\n",
    "    coords2 = (world_cities_dataset.loc[world_cities_dataset['id'] == city2_id, 'lat'].values[0],\n",
    "                       world_cities_dataset.loc[world_cities_dataset['id'] == city2_id, 'lng'].values[0]) #ex:coordinates of Tokyo\n",
    "    return geodesic(coords1, coords2).kilometers  #1000\n",
    "\n",
    "#introducing conditions to calculate tral weight(hours)\n",
    "def calculate_travelling_cost(city1_id, city2_id, i):\n",
    "    weight = 2 * (i + 1)  # 2 hours for the nearest, 4 for the second, 8 for the third, etc. #2\n",
    "    city_1_country = world_cities_dataset.loc[world_cities_dataset['id'] == city1_id, 'country'].values[0]\n",
    "    city_2_country = world_cities_dataset.loc[world_cities_dataset['id'] == city2_id, 'country'].values[0]\n",
    "    city_2_population = world_cities_dataset.loc[world_cities_dataset['id'] == city2_id, 'population'].values[0]\n",
    "    if city_1_country != city_2_country:\n",
    "        weight += 2  # Additional 2 hours if the destination city is in another country\n",
    "    if city_2_population > 200000:\n",
    "        weight += 2  # Additional 2 hours if the destination city has more than 200,000 inhabitants\n",
    "    return weight\n",
    "\n",
    "#gets longitude by city_id\n",
    "def get_lng_city(city_id):\n",
    "    lng = world_cities_dataset.loc[world_cities_dataset['id'] == city_id, 'lng'].values[0]\n",
    "    return lng"
   ]
  },
  {
   "cell_type": "code",
   "execution_count": 5,
   "id": "c6f1db8d",
   "metadata": {},
   "outputs": [],
   "source": [
    "#app starts here\n",
    "st.title(\"Travel App\")\n",
    "st.write(\"This is a travel app that will help you to identify if you would be able to travel the world from the selected city in 80 days\")\n",
    "\n",
    "cities_map = {f\"{city}\": id for id, city in\n",
    "                        zip(world_cities_dataset['id'], world_cities_dataset['city'])}\n",
    "    #{\"London\": \"458\", \"Tokyo: \"577}\n",
    "\n",
    "start_city = st.selectbox('Select your starting location', list(cities_map)) #selecting city where we start. ex:Seoul\n",
    "\n",
    "selected_cities = st.multiselect('Select cities you want to visit', list(cities_map)) #choosing where we want to go, ex:{Tokyo, Jakarta, Manila}\n",
    "st.write(f\"You selected {selected_cities}\")"
   ]
  },
  {
   "cell_type": "code",
   "execution_count": 6,
   "id": "4f832f05",
   "metadata": {},
   "outputs": [],
   "source": [
    "#introducing calculating logic\n",
    "\n",
    "if st.button(\"Start Travelling\"):\n",
    "    distances = {} #empty map\n",
    "    for city in selected_cities: #Tokyo\n",
    "        distance = calculate_distance(get_city_id(start_city,cities_map), get_city_id(city,cities_map)) #from Seoul to Tokyo\n",
    "        distances[city] = distance #{\"Tokyo\": 1000, \"jakarta: 2000, Manila: 200}\n",
    "    # Sorting the dictionary by values in ascending order\n",
    "    sorted_map = dict(sorted(distances.items(), key=lambda item: item[1]))   #{Manila:200, Tokyo:1000, Jakarta:2000. London:5000}\n",
    "\n",
    "    hours = 0  #in the beginning 0 hours spent travelling\n",
    "    i = 1 #sorted by the nearest city, 1 is nearest\n",
    "    init_city = start_city #where we start. ex: Seoul\n",
    "    prev_city = start_city #previous city, Seoul in the start\n",
    "    east = True\n",
    "    for city, distance in sorted_map.items(): #Manila, 200   #Tokyo, 1000\n",
    "\n",
    "        if get_lng_city(get_city_id(city, cities_map)) < get_lng_city(get_city_id(start_city, cities_map)):  #if lng decreases, we are not travelling east\n",
    "            east = False #set east flag to false\n",
    "        if start_city == city:\n",
    "            continue\n",
    "        if i>3: #2>3\n",
    "            init_city = prev_city #set third city to be initial\n",
    "            i = 0\n",
    "        hours += calculate_travelling_cost(get_city_id(init_city,cities_map),get_city_id(city,cities_map), i) #Seoul, Manila, 1 #56\n",
    "        i+=1 #3\n",
    "        prev_city = city #Jakarta\n",
    "\n",
    "    days = hours // 24    #converting hours to days\n",
    "    remaining_hours = hours % 24 #remainder hours\n",
    "\n",
    "#print the result\n",
    "    if selected_cities:\n",
    "        if (start_city not in selected_cities):\n",
    "            st.write(f\"This is not a round trip. You did not return back to {start_city}\")\n",
    "        if not east:\n",
    "            st.write(f\"You can travel only to the east of {start_city}\")\n",
    "        else:\n",
    "            if days>80:\n",
    "                st.write(f\"It's not possible to travel around the world in 80 days, the minimum days needed: {days} days {remaining_hours} hours\")\n",
    "            else:\n",
    "                st.write(f\"Congratulations, you just travelled the world in {days} days {remaining_hours} hours\")\n",
    "    else:\n",
    "        st.write(\"You did not select destination cities\")"
   ]
  },
  {
   "cell_type": "code",
   "execution_count": null,
   "id": "5506096b",
   "metadata": {},
   "outputs": [],
   "source": []
  },
  {
   "cell_type": "code",
   "execution_count": null,
   "id": "f547d294",
   "metadata": {},
   "outputs": [],
   "source": []
  }
 ],
 "metadata": {
  "kernelspec": {
   "display_name": "Python 3 (ipykernel)",
   "language": "python",
   "name": "python3"
  },
  "language_info": {
   "codemirror_mode": {
    "name": "ipython",
    "version": 3
   },
   "file_extension": ".py",
   "mimetype": "text/x-python",
   "name": "python",
   "nbconvert_exporter": "python",
   "pygments_lexer": "ipython3",
   "version": "3.11.5"
  }
 },
 "nbformat": 4,
 "nbformat_minor": 5
}
